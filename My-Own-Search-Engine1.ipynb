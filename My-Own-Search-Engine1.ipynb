{
 "cells": [
  {
   "cell_type": "code",
   "execution_count": 1,
   "id": "84765c5e-65b8-468e-9018-9dad661bb1f8",
   "metadata": {},
   "outputs": [],
   "source": [
    "#!pip install txtai streamlit"
   ]
  },
  {
   "cell_type": "code",
   "execution_count": 2,
   "id": "925af1b0-b07c-459f-8ca0-e7596d63e131",
   "metadata": {},
   "outputs": [],
   "source": [
    "## download the two following datasets into the current folder:\n",
    "#https://www.kaggle.com/datasets/piyushjain16/amazon-product-data\n",
    "#https://www.kaggle.com/datasets/glushko/seth-godins-blogs-dataset"
   ]
  },
  {
   "cell_type": "code",
   "execution_count": 3,
   "id": "9892d65d-c187-4bb9-bd76-824c2f0b07a9",
   "metadata": {},
   "outputs": [
    {
     "name": "stderr",
     "output_type": "stream",
     "text": [
      "2024-04-24 12:39:12.388316: I tensorflow/core/platform/cpu_feature_guard.cc:210] This TensorFlow binary is optimized to use available CPU instructions in performance-critical operations.\n",
      "To enable the following instructions: AVX2 FMA, in other operations, rebuild TensorFlow with the appropriate compiler flags.\n",
      "2024-04-24 12:39:13.221772: W tensorflow/compiler/tf2tensorrt/utils/py_utils.cc:38] TF-TRT Warning: Could not find TensorRT\n"
     ]
    }
   ],
   "source": [
    "import numpy as np\n",
    "import pandas as pd\n",
    "import json\n",
    "from txtai.embeddings import Embeddings"
   ]
  },
  {
   "cell_type": "code",
   "execution_count": 4,
   "id": "ed3007d8-0694-4b19-a5af-278aef9bc521",
   "metadata": {},
   "outputs": [],
   "source": [
    "np.random.seed(1)"
   ]
  },
  {
   "cell_type": "code",
   "execution_count": 5,
   "id": "363371d3-49b6-499e-8f1a-53aaff5628b2",
   "metadata": {},
   "outputs": [],
   "source": [
    "df =pd.read_csv('train.csv')\n",
    "#df =pd.read_csv('data/seth-data.csv')"
   ]
  },
  {
   "cell_type": "code",
   "execution_count": 6,
   "id": "b5875698-0061-4810-8213-3b752e57df52",
   "metadata": {},
   "outputs": [
    {
     "data": {
      "text/html": [
       "<div>\n",
       "<style scoped>\n",
       "    .dataframe tbody tr th:only-of-type {\n",
       "        vertical-align: middle;\n",
       "    }\n",
       "\n",
       "    .dataframe tbody tr th {\n",
       "        vertical-align: top;\n",
       "    }\n",
       "\n",
       "    .dataframe thead th {\n",
       "        text-align: right;\n",
       "    }\n",
       "</style>\n",
       "<table border=\"1\" class=\"dataframe\">\n",
       "  <thead>\n",
       "    <tr style=\"text-align: right;\">\n",
       "      <th></th>\n",
       "      <th>PRODUCT_ID</th>\n",
       "      <th>TITLE</th>\n",
       "      <th>BULLET_POINTS</th>\n",
       "      <th>DESCRIPTION</th>\n",
       "      <th>PRODUCT_TYPE_ID</th>\n",
       "      <th>PRODUCT_LENGTH</th>\n",
       "    </tr>\n",
       "  </thead>\n",
       "  <tbody>\n",
       "    <tr>\n",
       "      <th>0</th>\n",
       "      <td>1925202</td>\n",
       "      <td>ArtzFolio Tulip Flowers Blackout Curtain for D...</td>\n",
       "      <td>[LUXURIOUS &amp; APPEALING: Beautiful custom-made ...</td>\n",
       "      <td>NaN</td>\n",
       "      <td>1650</td>\n",
       "      <td>2125.980000</td>\n",
       "    </tr>\n",
       "    <tr>\n",
       "      <th>1</th>\n",
       "      <td>2673191</td>\n",
       "      <td>Marks &amp; Spencer Girls' Pyjama Sets T86_2561C_N...</td>\n",
       "      <td>[Harry Potter Hedwig Pyjamas (6-16 Yrs),100% c...</td>\n",
       "      <td>NaN</td>\n",
       "      <td>2755</td>\n",
       "      <td>393.700000</td>\n",
       "    </tr>\n",
       "    <tr>\n",
       "      <th>2</th>\n",
       "      <td>2765088</td>\n",
       "      <td>PRIKNIK Horn Red Electric Air Horn Compressor ...</td>\n",
       "      <td>[Loud Dual Tone Trumpet Horn, Compatible With ...</td>\n",
       "      <td>Specifications: Color: Red, Material: Aluminiu...</td>\n",
       "      <td>7537</td>\n",
       "      <td>748.031495</td>\n",
       "    </tr>\n",
       "    <tr>\n",
       "      <th>3</th>\n",
       "      <td>1594019</td>\n",
       "      <td>ALISHAH Women's Cotton Ankle Length Leggings C...</td>\n",
       "      <td>[Made By 95%cotton and 5% Lycra which gives yo...</td>\n",
       "      <td>AISHAH Women's Lycra Cotton Ankel Leggings. Br...</td>\n",
       "      <td>2996</td>\n",
       "      <td>787.401574</td>\n",
       "    </tr>\n",
       "    <tr>\n",
       "      <th>4</th>\n",
       "      <td>283658</td>\n",
       "      <td>The United Empire Loyalists: A Chronicle of th...</td>\n",
       "      <td>NaN</td>\n",
       "      <td>NaN</td>\n",
       "      <td>6112</td>\n",
       "      <td>598.424000</td>\n",
       "    </tr>\n",
       "  </tbody>\n",
       "</table>\n",
       "</div>"
      ],
      "text/plain": [
       "   PRODUCT_ID                                              TITLE  \\\n",
       "0     1925202  ArtzFolio Tulip Flowers Blackout Curtain for D...   \n",
       "1     2673191  Marks & Spencer Girls' Pyjama Sets T86_2561C_N...   \n",
       "2     2765088  PRIKNIK Horn Red Electric Air Horn Compressor ...   \n",
       "3     1594019  ALISHAH Women's Cotton Ankle Length Leggings C...   \n",
       "4      283658  The United Empire Loyalists: A Chronicle of th...   \n",
       "\n",
       "                                       BULLET_POINTS  \\\n",
       "0  [LUXURIOUS & APPEALING: Beautiful custom-made ...   \n",
       "1  [Harry Potter Hedwig Pyjamas (6-16 Yrs),100% c...   \n",
       "2  [Loud Dual Tone Trumpet Horn, Compatible With ...   \n",
       "3  [Made By 95%cotton and 5% Lycra which gives yo...   \n",
       "4                                                NaN   \n",
       "\n",
       "                                         DESCRIPTION  PRODUCT_TYPE_ID  \\\n",
       "0                                                NaN             1650   \n",
       "1                                                NaN             2755   \n",
       "2  Specifications: Color: Red, Material: Aluminiu...             7537   \n",
       "3  AISHAH Women's Lycra Cotton Ankel Leggings. Br...             2996   \n",
       "4                                                NaN             6112   \n",
       "\n",
       "   PRODUCT_LENGTH  \n",
       "0     2125.980000  \n",
       "1      393.700000  \n",
       "2      748.031495  \n",
       "3      787.401574  \n",
       "4      598.424000  "
      ]
     },
     "execution_count": 6,
     "metadata": {},
     "output_type": "execute_result"
    }
   ],
   "source": [
    "df.head()"
   ]
  },
  {
   "cell_type": "code",
   "execution_count": 7,
   "id": "bf86f8ec-5498-4d0a-8147-3622c4c35068",
   "metadata": {},
   "outputs": [
    {
     "name": "stdout",
     "output_type": "stream",
     "text": [
      "Index(['PRODUCT_ID', 'TITLE', 'BULLET_POINTS', 'DESCRIPTION',\n",
      "       'PRODUCT_TYPE_ID', 'PRODUCT_LENGTH'],\n",
      "      dtype='object')\n"
     ]
    }
   ],
   "source": [
    "print(df.columns)\n",
    "#print(df.title)"
   ]
  },
  {
   "cell_type": "code",
   "execution_count": 8,
   "id": "e0c17461-7198-4e4f-94ba-0b1e96f34829",
   "metadata": {},
   "outputs": [
    {
     "name": "stdout",
     "output_type": "stream",
     "text": [
      "0          ArtzFolio Tulip Flowers Blackout Curtain for D...\n",
      "1          Marks & Spencer Girls' Pyjama Sets T86_2561C_N...\n",
      "2          PRIKNIK Horn Red Electric Air Horn Compressor ...\n",
      "3          ALISHAH Women's Cotton Ankle Length Leggings C...\n",
      "4          The United Empire Loyalists: A Chronicle of th...\n",
      "                                 ...                        \n",
      "2249693    Nike Women's As W Ny Df Swsh Hn Kh Bra (CZ7610...\n",
      "2249694    (3PCS) Goose Game Cute Cartoon Enamel Pins, Fu...\n",
      "2249695    Kangroo Sweep Movement Printed Wooden Wall Clo...\n",
      "2249696    Electro Voice EKX-BRKT15 | Wall Mount Bracket ...\n",
      "2249697    Skyjacker C7360SP Component Box For PN[C7360PK...\n",
      "Name: TITLE, Length: 2249698, dtype: object\n"
     ]
    }
   ],
   "source": [
    "print(df.TITLE)"
   ]
  },
  {
   "cell_type": "code",
   "execution_count": 9,
   "id": "a161cbe6-50bf-4402-ace6-1a58a681718f",
   "metadata": {},
   "outputs": [],
   "source": [
    "df_title =df.TITLE"
   ]
  },
  {
   "cell_type": "code",
   "execution_count": 10,
   "id": "04a08b14-d3ed-4b0f-b9a1-6f34caf6eaf7",
   "metadata": {},
   "outputs": [
    {
     "data": {
      "text/plain": [
       "'ArtzFolio Tulip Flowers Blackout Curtain for Door, Window & Room | Eyelets & Tie Back | Canvas Fabric | Width 4.5feet (54inch) Height 5 feet (60 inch); Set of 2 PCS'"
      ]
     },
     "execution_count": 10,
     "metadata": {},
     "output_type": "execute_result"
    }
   ],
   "source": [
    "df_title[0]"
   ]
  },
  {
   "cell_type": "code",
   "execution_count": 11,
   "id": "f2d1e46c-e7b5-4e81-aaed-d4c9b53ba6f2",
   "metadata": {},
   "outputs": [],
   "source": [
    "titles =df.dropna().sample(100000).TITLE.values"
   ]
  },
  {
   "cell_type": "code",
   "execution_count": 12,
   "id": "77e71115-9eb6-4895-9fdc-59f7ab7c1631",
   "metadata": {},
   "outputs": [
    {
     "name": "stdout",
     "output_type": "stream",
     "text": [
      "12 1 inch Circle Pendant Trays with key chain and glass - Antique Bronze- 1 inch - Pendant Blanks Cameo Bezel Settings Photo Jewelry - Custom Jewelry MakingDeannassupplyshop\n"
     ]
    }
   ],
   "source": [
    "print(titles[0])"
   ]
  },
  {
   "cell_type": "code",
   "execution_count": 13,
   "id": "f89d7c78-2b2e-4d0d-bcaf-1389bbe1d9ad",
   "metadata": {},
   "outputs": [
    {
     "name": "stdout",
     "output_type": "stream",
     "text": [
      "SOURBH Women's Sana Art Silk Plain Saree with Blouse and Border Work (10161-Green)\n"
     ]
    }
   ],
   "source": [
    "print(titles[1])"
   ]
  },
  {
   "cell_type": "code",
   "execution_count": 14,
   "id": "f4f4b46c-600b-4334-9e57-bc8f7da170ee",
   "metadata": {},
   "outputs": [],
   "source": [
    "embeddings = Embeddings({\n",
    "    'path':'sentence-transformers/all-MiniLM-L6-v2'\n",
    "})"
   ]
  },
  {
   "cell_type": "code",
   "execution_count": 15,
   "id": "f4b473d3-7401-4919-84b9-78ade5b2d128",
   "metadata": {},
   "outputs": [],
   "source": [
    "#embeddings.save('embeddings.tar.gz')"
   ]
  },
  {
   "cell_type": "code",
   "execution_count": 16,
   "id": "45416bd7-ad42-4296-ae76-c04a9a161db2",
   "metadata": {},
   "outputs": [],
   "source": [
    "#embeddings.load('embeddings.tar.gz')"
   ]
  },
  {
   "cell_type": "code",
   "execution_count": 17,
   "id": "c9279209-ef7a-464b-9d29-a2ef13ebcace",
   "metadata": {},
   "outputs": [
    {
     "data": {
      "text/plain": [
       "2249698"
      ]
     },
     "execution_count": 17,
     "metadata": {},
     "output_type": "execute_result"
    }
   ],
   "source": [
    "len(df_title)"
   ]
  },
  {
   "cell_type": "code",
   "execution_count": 18,
   "id": "ebefbbd1-e778-494e-8db3-6a66a6420faf",
   "metadata": {},
   "outputs": [
    {
     "data": {
      "text/plain": [
       "(0,\n",
       " 'ArtzFolio Tulip Flowers Blackout Curtain for Door, Window & Room | Eyelets & Tie Back | Canvas Fabric | Width 4.5feet (54inch) Height 5 feet (60 inch); Set of 2 PCS',\n",
       " None)"
      ]
     },
     "execution_count": 18,
     "metadata": {},
     "output_type": "execute_result"
    }
   ],
   "source": [
    "txtai_data =[]\n",
    "i =0\n",
    "for text in df_title:\n",
    "    txtai_data.append((i, text, None))\n",
    "    i = i +1\n",
    "    if i >20000:\n",
    "        break\n",
    "txtai_data[0]"
   ]
  },
  {
   "cell_type": "code",
   "execution_count": 19,
   "id": "fd6ac92f-2737-4876-8b95-88526a68176a",
   "metadata": {},
   "outputs": [],
   "source": [
    "embeddings.index(txtai_data)"
   ]
  },
  {
   "cell_type": "code",
   "execution_count": 20,
   "id": "9ec5b137-8a86-4107-8779-4f390f433e45",
   "metadata": {},
   "outputs": [
    {
     "data": {
      "text/plain": [
       "[(2, 0.6270757913589478),\n",
       " (7009, 0.4661174416542053),\n",
       " (19444, 0.4541857838630676),\n",
       " (17293, 0.44762980937957764),\n",
       " (1461, 0.4402349293231964),\n",
       " (11001, 0.4396733045578003),\n",
       " (5110, 0.43410956859588623),\n",
       " (17937, 0.4302803874015808),\n",
       " (18623, 0.42533808946609497),\n",
       " (9168, 0.4207588732242584)]"
      ]
     },
     "execution_count": 20,
     "metadata": {},
     "output_type": "execute_result"
    }
   ],
   "source": [
    "embeddings.search(\"Eelctric Air Horn Compressor\", 10)"
   ]
  },
  {
   "cell_type": "code",
   "execution_count": 21,
   "id": "076178c5-a835-4c3e-b5e0-4a6a3370e2c1",
   "metadata": {},
   "outputs": [],
   "source": [
    "res =embeddings.search(\"ArtzFolio Tulip Flowers Blackout Curtain\", 10)"
   ]
  },
  {
   "cell_type": "code",
   "execution_count": 22,
   "id": "a1b0f1b2-1d54-4ac6-9220-0ea1ddabd5e9",
   "metadata": {},
   "outputs": [
    {
     "name": "stdout",
     "output_type": "stream",
     "text": [
      "(0, 0.7809025049209595)\n",
      "(19803, 0.6162043809890747)\n",
      "(14777, 0.608285129070282)\n",
      "(17034, 0.5893008708953857)\n",
      "(4728, 0.5790282487869263)\n",
      "(10686, 0.5752769112586975)\n",
      "(14849, 0.5526760816574097)\n",
      "(18510, 0.5502485036849976)\n",
      "(2722, 0.5495783090591431)\n",
      "(16495, 0.5467019081115723)\n"
     ]
    }
   ],
   "source": [
    "for item in res:\n",
    "    print(item)"
   ]
  },
  {
   "cell_type": "code",
   "execution_count": 23,
   "id": "4688993e-40b1-4eb8-a193-1c2dfd4f3a19",
   "metadata": {},
   "outputs": [
    {
     "name": "stdout",
     "output_type": "stream",
     "text": [
      "(0, 'ArtzFolio Tulip Flowers Blackout Curtain for Door, Window & Room | Eyelets & Tie Back | Canvas Fabric | Width 4.5feet (54inch) Height 5 feet (60 inch); Set of 2 PCS', None)\n"
     ]
    }
   ],
   "source": [
    "print(txtai_data[0])"
   ]
  },
  {
   "cell_type": "code",
   "execution_count": 24,
   "id": "e1e1a536-133e-4201-a66f-b3d82af71c31",
   "metadata": {},
   "outputs": [
    {
     "name": "stdout",
     "output_type": "stream",
     "text": [
      "(19803, 'STAR DECOR Floral Suade Polyster Curtain - 6 feet Window, White [3 Piece]', None)\n"
     ]
    }
   ],
   "source": [
    "print(txtai_data[19803])"
   ]
  },
  {
   "cell_type": "code",
   "execution_count": 25,
   "id": "f90ad918-980b-4b42-8c74-cf3ed368dd0f",
   "metadata": {},
   "outputs": [],
   "source": [
    "res=embeddings.search('protector for cam', 10)"
   ]
  },
  {
   "cell_type": "code",
   "execution_count": 26,
   "id": "c2bc4c77-7091-49f2-941b-ea773a8f239c",
   "metadata": {},
   "outputs": [
    {
     "name": "stdout",
     "output_type": "stream",
     "text": [
      "text: (3053, 'ANTI SHOCK Anti Spy Privacy Screen Guard with Back Glossy Protector with Camera Lens Glass Protector for Oppo F19 (Transparent)) Full Screen Coverage Except Edges with Microfibre Cloth', None)\n",
      "similarity: 0.5804078578948975\n",
      "\n",
      "text: (2382, 'AtOdds? Vivo IQOO Z5 Mobile Back Skin Rear Screen Guard Protector Film Wrap with Camera Protector (Coverage - Back+Camera+Sides) (Metallic Gold)', None)\n",
      "similarity: 0.5701155662536621\n",
      "\n",
      "text: (15630, 'PUTTHO Camera lens protector guard for SAMSUNG GALAXY CORE 4G - Transparent, pack of 5 |packof5cameralensa1334', None)\n",
      "similarity: 0.5604696273803711\n",
      "\n",
      "text: (5029, 'PUTTHO Camera lens protector guard for Apple Iphone 11 Pro - Transparent, Pack of 2 | packof2cameralensa1520', None)\n",
      "similarity: 0.5591477155685425\n",
      "\n",
      "text: (18722, 'FASHEEN TECNO CAMON I2 Screen Protector Made of Flexible, 9H Hardness, Shatterproof Nano Fiber Not a Glass, Not Edge to Edge, Hammerproof Impossible Screen Guard for TECNO CAMON I2', None)\n",
      "similarity: 0.5583410263061523\n",
      "\n",
      "text: (11214, 'NFF Back Camera Lens Protector Flexible Screen for realme 6 / 6I Anti Scratch Camera HD Screen Protector realme 6 / 6I', None)\n",
      "similarity: 0.5395018458366394\n",
      "\n",
      "text: (1329, 'TOMBIK Motorola Edge S30 Front & Back Flexible Screen Protector of your Mbile Camera,Full Fit,True HD Tempered Glass Nondestructive Quality,Bubble Free Guard.', None)\n",
      "similarity: 0.5392588376998901\n",
      "\n",
      "text: (14858, 'Zivite (Camera Protection) Matte Case Cover for Infinix Hot 8 - Black', None)\n",
      "similarity: 0.5381122827529907\n",
      "\n",
      "text: (9179, 'AtOdds? - Black Crocodile Mobile Back Screen Protector Skin wrap (Not Back CASE/Cover) for Samsung Galaxy J8 with Camera Protector (Back+Camera+Sides)', None)\n",
      "similarity: 0.5324511528015137\n",
      "\n",
      "text: (17461, 'AtOdds? Realme 9 Pro Plus Mobile Back Skin Rear Screen Guard Protector Film Wrap with Camera Protector (Coverage - Back+Camera+Sides) (Black Glitter)', None)\n",
      "similarity: 0.5317765474319458\n",
      "\n"
     ]
    }
   ],
   "source": [
    "for r in res:\n",
    "    print(f\"text: {txtai_data[r[0]]}\")\n",
    "    print(f\"similarity: {r[1]}\")\n",
    "    print()"
   ]
  },
  {
   "cell_type": "code",
   "execution_count": 27,
   "id": "055578ba-44af-4352-96ab-ca419fb8f6fd",
   "metadata": {},
   "outputs": [],
   "source": [
    "res=embeddings.search('Camera Lens Protector', 10) "
   ]
  },
  {
   "cell_type": "code",
   "execution_count": 28,
   "id": "d2a096a0-1eaa-4443-8e00-71e97704ef2d",
   "metadata": {},
   "outputs": [
    {
     "name": "stdout",
     "output_type": "stream",
     "text": [
      "text: (4040, 'AKDOTPRO Camera lens protector for Tecno Pova 2 - Transparent, Pack of 1', None)\n",
      "similarity: 0.6877684593200684\n",
      "\n",
      "text: (12707, 'Aguila back camera lens protector for Oppo F19', None)\n",
      "similarity: 0.6776947975158691\n",
      "\n",
      "text: (12500, 'SHOPPIZY Back Camera Lens Protector For iQOO Z3 5G / Vivo Y53s 5G', None)\n",
      "similarity: 0.6756441593170166\n",
      "\n",
      "text: (5029, 'PUTTHO Camera lens protector guard for Apple Iphone 11 Pro - Transparent, Pack of 2 | packof2cameralensa1520', None)\n",
      "similarity: 0.6565495133399963\n",
      "\n",
      "text: (11214, 'NFF Back Camera Lens Protector Flexible Screen for realme 6 / 6I Anti Scratch Camera HD Screen Protector realme 6 / 6I', None)\n",
      "similarity: 0.6531611084938049\n",
      "\n",
      "text: (16992, 'BAI AND KAKA® Back Camera Lens Protector Glass For Realme 7i Transparent', None)\n",
      "similarity: 0.6523022055625916\n",
      "\n",
      "text: (15630, 'PUTTHO Camera lens protector guard for SAMSUNG GALAXY CORE 4G - Transparent, pack of 5 |packof5cameralensa1334', None)\n",
      "similarity: 0.6517557501792908\n",
      "\n",
      "text: (150, 'Camera Lens Protector for Vivo X60 (Pack of 2) With Free Cleaning wipes', None)\n",
      "similarity: 0.6348189115524292\n",
      "\n",
      "text: (271, 'Cellryte Back Camera Lens Protector Tempered Glass Xiaomi Redmi 10A [3D 9H Hardness Bubble Free Easy Installation Anti-scratch]-Black', None)\n",
      "similarity: 0.627058744430542\n",
      "\n",
      "text: (3053, 'ANTI SHOCK Anti Spy Privacy Screen Guard with Back Glossy Protector with Camera Lens Glass Protector for Oppo F19 (Transparent)) Full Screen Coverage Except Edges with Microfibre Cloth', None)\n",
      "similarity: 0.5499392747879028\n",
      "\n"
     ]
    }
   ],
   "source": [
    "for r in res:\n",
    "    print(f\"text: {txtai_data[r[0]]}\")\n",
    "    print(f\"similarity: {r[1]}\")\n",
    "    print()"
   ]
  },
  {
   "cell_type": "code",
   "execution_count": 29,
   "id": "05a464b8-3de9-4f4e-b704-6ddb34a5ada2",
   "metadata": {},
   "outputs": [],
   "source": [
    "res=embeddings.search('SAMSUNG GALAXY CORE', 10)"
   ]
  },
  {
   "cell_type": "code",
   "execution_count": 30,
   "id": "1b454717-9eb2-480c-8a74-b268b84d02be",
   "metadata": {},
   "outputs": [
    {
     "name": "stdout",
     "output_type": "stream",
     "text": [
      "text: (19794, 'Samsung Galaxy F41 (Fusion Green, 6GB RAM, 64GB Storage)', None)\n",
      "similarity: 0.5382387638092041\n",
      "\n",
      "text: (12767, 'Samsung Galaxy A13 Light Blue, 4GB RAM, 128GB Storage Without Offers, (SM-A135FLBHINS)', None)\n",
      "similarity: 0.4756721258163452\n",
      "\n",
      "text: (13445, 'Unirock Samsung Galaxy On7 Prime (Gold, 4GB RAM, 64GB Storage) Cat Case, Cute Lovely Kitten Design Glitter Silicone Soft Protective Cover for Girls Teens (Cat-Pink)', None)\n",
      "similarity: 0.46152251958847046\n",
      "\n",
      "text: (6962, 'Generic SAMSUNG GALAXY S5 MINI OTG SMART CONNECTOR/ USB 2.0 + Micro USB OTG Smart Card Reader SD(HC) M2 MMC MS TF for Smart Phones And Android Tablets (Assorted Colors))', None)\n",
      "similarity: 0.45936018228530884\n",
      "\n",
      "text: (14719, 'iWishKart Samsung A52s 5G, Samsung Galaxy A52s 5G Tempered Glass screen protector guard Full Edge to Edge 9H Full Glue FHD with Easy Installation kit', None)\n",
      "similarity: 0.456617534160614\n",
      "\n",
      "text: (664, 'Nokia Asha 300 Mobile (White)', None)\n",
      "similarity: 0.4478052854537964\n",
      "\n",
      "text: (5333, 'Prime Retail Poly Carbonate Back Cover for Samsung Galaxy M01 Core - Blue', None)\n",
      "similarity: 0.44590646028518677\n",
      "\n",
      "text: (482, 'FASHEEN Front Matte Screen Guard Tempered Glass & Back Carbon Fiber Skin, Flexible Fiber Not Glass, Not Edge to Edge, Front & Back Impossible Screen Guard Combo for SAMSUNG NOTE 7', None)\n",
      "similarity: 0.42805716395378113\n",
      "\n",
      "text: (3564, 'Galaxy J7 2015 Case,J7 NEO Case with HD Screen Protector (2Pack) KaiMai 360 Degree Rotating Ring & Bracket Dual Layers of Shockproof TPU and Solid PC Phone Case for Galaxy J7 J700 2015-Rose Gold', None)\n",
      "similarity: 0.4256082773208618\n",
      "\n",
      "text: (19866, 'Pikkme Beautiful Mandala Indian Art Black White Designer Printed Hard Back Covers and Cases for Samsung Galaxy M02s', None)\n",
      "similarity: 0.42404070496559143\n",
      "\n"
     ]
    }
   ],
   "source": [
    "for r in res:\n",
    "    print(f\"text: {txtai_data[r[0]]}\")\n",
    "    print(f\"similarity: {r[1]}\")\n",
    "    print()"
   ]
  },
  {
   "cell_type": "code",
   "execution_count": 31,
   "id": "7bf8b2ab-1822-4bb0-b542-070115ee1f55",
   "metadata": {},
   "outputs": [],
   "source": [
    "embeddings.save('models/TITLE_index')"
   ]
  },
  {
   "cell_type": "code",
   "execution_count": null,
   "id": "3b1d46f9-1f2b-49d0-8c2f-1f6d8d50f1bd",
   "metadata": {},
   "outputs": [],
   "source": []
  }
 ],
 "metadata": {
  "kernelspec": {
   "display_name": "Python 3 (ipykernel)",
   "language": "python",
   "name": "python3"
  },
  "language_info": {
   "codemirror_mode": {
    "name": "ipython",
    "version": 3
   },
   "file_extension": ".py",
   "mimetype": "text/x-python",
   "name": "python",
   "nbconvert_exporter": "python",
   "pygments_lexer": "ipython3",
   "version": "3.10.12"
  }
 },
 "nbformat": 4,
 "nbformat_minor": 5
}
