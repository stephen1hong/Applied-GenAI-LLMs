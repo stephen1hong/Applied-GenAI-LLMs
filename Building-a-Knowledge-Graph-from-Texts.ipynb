{
 "cells": [
  {
   "cell_type": "code",
   "execution_count": 1,
   "id": "6480cdf8-61c9-4e36-97ac-667c8f5d6eef",
   "metadata": {},
   "outputs": [
    {
     "data": {
      "text/plain": [
       "'how to implement a pipeline for extracting a Knowledge Base from texts or online articles'"
      ]
     },
     "execution_count": 1,
     "metadata": {},
     "output_type": "execute_result"
    }
   ],
   "source": [
    "'''how to implement a pipeline for extracting a Knowledge Base from texts or online articles'''\n",
    "\n",
    "#https://www.nlplanet.org/course-practical-nlp/02-practical-nlp-first-tasks/16-knowledge-graph-from-text\n"
   ]
  },
  {
   "cell_type": "code",
   "execution_count": 2,
   "id": "0ec1c335-4198-44b6-ac62-5eb3332e92a8",
   "metadata": {},
   "outputs": [
    {
     "name": "stdout",
     "output_type": "stream",
     "text": [
      "Requirement already satisfied: transformers in /home/techlab/myenv/lib/python3.10/site-packages (4.40.0)\n",
      "Requirement already satisfied: wikipedia in /home/techlab/myenv/lib/python3.10/site-packages (1.4.0)\n",
      "Requirement already satisfied: newspaper3k in /home/techlab/myenv/lib/python3.10/site-packages (0.2.8)\n",
      "Requirement already satisfied: GoogleNews in /home/techlab/myenv/lib/python3.10/site-packages (1.6.14)\n",
      "Requirement already satisfied: pyvis in /home/techlab/myenv/lib/python3.10/site-packages (0.3.2)\n",
      "Requirement already satisfied: filelock in /home/techlab/myenv/lib/python3.10/site-packages (from transformers) (3.13.1)\n",
      "Requirement already satisfied: huggingface-hub<1.0,>=0.19.3 in /home/techlab/myenv/lib/python3.10/site-packages (from transformers) (0.22.2)\n",
      "Requirement already satisfied: numpy>=1.17 in /home/techlab/myenv/lib/python3.10/site-packages (from transformers) (1.26.4)\n",
      "Requirement already satisfied: packaging>=20.0 in /home/techlab/myenv/lib/python3.10/site-packages (from transformers) (23.2)\n",
      "Requirement already satisfied: pyyaml>=5.1 in /home/techlab/myenv/lib/python3.10/site-packages (from transformers) (6.0.1)\n",
      "Requirement already satisfied: regex!=2019.12.17 in /home/techlab/myenv/lib/python3.10/site-packages (from transformers) (2023.12.25)\n",
      "Requirement already satisfied: requests in /home/techlab/myenv/lib/python3.10/site-packages (from transformers) (2.32.3)\n",
      "Requirement already satisfied: tokenizers<0.20,>=0.19 in /home/techlab/myenv/lib/python3.10/site-packages (from transformers) (0.19.1)\n",
      "Requirement already satisfied: safetensors>=0.4.1 in /home/techlab/myenv/lib/python3.10/site-packages (from transformers) (0.4.3)\n",
      "Requirement already satisfied: tqdm>=4.27 in /home/techlab/myenv/lib/python3.10/site-packages (from transformers) (4.66.2)\n",
      "Requirement already satisfied: beautifulsoup4 in /home/techlab/myenv/lib/python3.10/site-packages (from wikipedia) (4.12.3)\n",
      "Requirement already satisfied: Pillow>=3.3.0 in /home/techlab/myenv/lib/python3.10/site-packages (from newspaper3k) (10.2.0)\n",
      "Requirement already satisfied: cssselect>=0.9.2 in /home/techlab/myenv/lib/python3.10/site-packages (from newspaper3k) (1.2.0)\n",
      "Requirement already satisfied: lxml>=3.6.0 in /home/techlab/myenv/lib/python3.10/site-packages (from newspaper3k) (5.1.0)\n",
      "Requirement already satisfied: nltk>=3.2.1 in /home/techlab/myenv/lib/python3.10/site-packages (from newspaper3k) (3.8.1)\n",
      "Requirement already satisfied: feedparser>=5.2.1 in /home/techlab/myenv/lib/python3.10/site-packages (from newspaper3k) (6.0.11)\n",
      "Requirement already satisfied: tldextract>=2.0.1 in /home/techlab/myenv/lib/python3.10/site-packages (from newspaper3k) (5.1.2)\n",
      "Requirement already satisfied: feedfinder2>=0.0.4 in /home/techlab/myenv/lib/python3.10/site-packages (from newspaper3k) (0.0.4)\n",
      "Requirement already satisfied: jieba3k>=0.35.1 in /home/techlab/myenv/lib/python3.10/site-packages (from newspaper3k) (0.35.1)\n",
      "Requirement already satisfied: python-dateutil>=2.5.3 in /home/techlab/myenv/lib/python3.10/site-packages (from newspaper3k) (2.9.0.post0)\n",
      "Requirement already satisfied: tinysegmenter==0.3 in /home/techlab/myenv/lib/python3.10/site-packages (from newspaper3k) (0.3)\n",
      "Requirement already satisfied: dateparser in /home/techlab/myenv/lib/python3.10/site-packages (from GoogleNews) (1.2.0)\n",
      "Requirement already satisfied: ipython>=5.3.0 in /home/techlab/myenv/lib/python3.10/site-packages (from pyvis) (8.22.2)\n",
      "Requirement already satisfied: jinja2>=2.9.6 in /home/techlab/myenv/lib/python3.10/site-packages (from pyvis) (3.1.3)\n",
      "Requirement already satisfied: jsonpickle>=1.4.1 in /home/techlab/myenv/lib/python3.10/site-packages (from pyvis) (3.2.2)\n",
      "Requirement already satisfied: networkx>=1.11 in /home/techlab/myenv/lib/python3.10/site-packages (from pyvis) (3.2.1)\n",
      "Requirement already satisfied: soupsieve>1.2 in /home/techlab/myenv/lib/python3.10/site-packages (from beautifulsoup4->wikipedia) (2.5)\n",
      "Requirement already satisfied: six in /home/techlab/myenv/lib/python3.10/site-packages (from feedfinder2>=0.0.4->newspaper3k) (1.16.0)\n",
      "Requirement already satisfied: sgmllib3k in /home/techlab/myenv/lib/python3.10/site-packages (from feedparser>=5.2.1->newspaper3k) (1.0.0)\n",
      "Requirement already satisfied: fsspec>=2023.5.0 in /home/techlab/myenv/lib/python3.10/site-packages (from huggingface-hub<1.0,>=0.19.3->transformers) (2024.2.0)\n",
      "Requirement already satisfied: typing-extensions>=3.7.4.3 in /home/techlab/myenv/lib/python3.10/site-packages (from huggingface-hub<1.0,>=0.19.3->transformers) (4.10.0)\n",
      "Requirement already satisfied: decorator in /home/techlab/myenv/lib/python3.10/site-packages (from ipython>=5.3.0->pyvis) (5.1.1)\n",
      "Requirement already satisfied: jedi>=0.16 in /home/techlab/myenv/lib/python3.10/site-packages (from ipython>=5.3.0->pyvis) (0.19.1)\n",
      "Requirement already satisfied: matplotlib-inline in /home/techlab/myenv/lib/python3.10/site-packages (from ipython>=5.3.0->pyvis) (0.1.6)\n",
      "Requirement already satisfied: prompt-toolkit<3.1.0,>=3.0.41 in /home/techlab/myenv/lib/python3.10/site-packages (from ipython>=5.3.0->pyvis) (3.0.43)\n",
      "Requirement already satisfied: pygments>=2.4.0 in /home/techlab/myenv/lib/python3.10/site-packages (from ipython>=5.3.0->pyvis) (2.17.2)\n",
      "Requirement already satisfied: stack-data in /home/techlab/myenv/lib/python3.10/site-packages (from ipython>=5.3.0->pyvis) (0.6.3)\n",
      "Requirement already satisfied: traitlets>=5.13.0 in /home/techlab/myenv/lib/python3.10/site-packages (from ipython>=5.3.0->pyvis) (5.14.2)\n",
      "Requirement already satisfied: exceptiongroup in /home/techlab/myenv/lib/python3.10/site-packages (from ipython>=5.3.0->pyvis) (1.2.0)\n",
      "Requirement already satisfied: pexpect>4.3 in /home/techlab/myenv/lib/python3.10/site-packages (from ipython>=5.3.0->pyvis) (4.9.0)\n",
      "Requirement already satisfied: MarkupSafe>=2.0 in /home/techlab/myenv/lib/python3.10/site-packages (from jinja2>=2.9.6->pyvis) (2.1.5)\n",
      "Requirement already satisfied: click in /home/techlab/myenv/lib/python3.10/site-packages (from nltk>=3.2.1->newspaper3k) (8.1.7)\n",
      "Requirement already satisfied: joblib in /home/techlab/myenv/lib/python3.10/site-packages (from nltk>=3.2.1->newspaper3k) (1.3.2)\n",
      "Requirement already satisfied: charset-normalizer<4,>=2 in /home/techlab/myenv/lib/python3.10/site-packages (from requests->transformers) (3.3.2)\n",
      "Requirement already satisfied: idna<4,>=2.5 in /home/techlab/myenv/lib/python3.10/site-packages (from requests->transformers) (3.6)\n",
      "Requirement already satisfied: urllib3<3,>=1.21.1 in /home/techlab/myenv/lib/python3.10/site-packages (from requests->transformers) (2.2.1)\n",
      "Requirement already satisfied: certifi>=2017.4.17 in /home/techlab/myenv/lib/python3.10/site-packages (from requests->transformers) (2024.2.2)\n",
      "Requirement already satisfied: requests-file>=1.4 in /home/techlab/myenv/lib/python3.10/site-packages (from tldextract>=2.0.1->newspaper3k) (2.1.0)\n",
      "Requirement already satisfied: pytz in /home/techlab/myenv/lib/python3.10/site-packages (from dateparser->GoogleNews) (2024.1)\n",
      "Requirement already satisfied: tzlocal in /home/techlab/myenv/lib/python3.10/site-packages (from dateparser->GoogleNews) (5.2)\n",
      "Requirement already satisfied: parso<0.9.0,>=0.8.3 in /home/techlab/myenv/lib/python3.10/site-packages (from jedi>=0.16->ipython>=5.3.0->pyvis) (0.8.3)\n",
      "Requirement already satisfied: ptyprocess>=0.5 in /home/techlab/myenv/lib/python3.10/site-packages (from pexpect>4.3->ipython>=5.3.0->pyvis) (0.7.0)\n",
      "Requirement already satisfied: wcwidth in /home/techlab/myenv/lib/python3.10/site-packages (from prompt-toolkit<3.1.0,>=3.0.41->ipython>=5.3.0->pyvis) (0.2.13)\n",
      "Requirement already satisfied: executing>=1.2.0 in /home/techlab/myenv/lib/python3.10/site-packages (from stack-data->ipython>=5.3.0->pyvis) (2.0.1)\n",
      "Requirement already satisfied: asttokens>=2.1.0 in /home/techlab/myenv/lib/python3.10/site-packages (from stack-data->ipython>=5.3.0->pyvis) (2.4.1)\n",
      "Requirement already satisfied: pure-eval in /home/techlab/myenv/lib/python3.10/site-packages (from stack-data->ipython>=5.3.0->pyvis) (0.2.2)\n",
      "\n",
      "\u001b[1m[\u001b[0m\u001b[34;49mnotice\u001b[0m\u001b[1;39;49m]\u001b[0m\u001b[39;49m A new release of pip is available: \u001b[0m\u001b[31;49m24.0\u001b[0m\u001b[39;49m -> \u001b[0m\u001b[32;49m24.1.1\u001b[0m\n",
      "\u001b[1m[\u001b[0m\u001b[34;49mnotice\u001b[0m\u001b[1;39;49m]\u001b[0m\u001b[39;49m To update, run: \u001b[0m\u001b[32;49mpip install --upgrade pip\u001b[0m\n"
     ]
    }
   ],
   "source": [
    "!pip install transformers wikipedia newspaper3k GoogleNews pyvis"
   ]
  },
  {
   "cell_type": "code",
   "execution_count": 3,
   "id": "ca720d8b-5c42-478a-810c-07a35975ec81",
   "metadata": {},
   "outputs": [
    {
     "data": {
      "text/plain": [
       "'need each library for the following reasons:\\n    transformers: Load the REBEL mode.\\n    wikipedia: Validate extracted entities by checking if they have a corresponding Wikipedia page.\\n    newspaper: Parse articles from URLs.\\n    GoogleNews: Read Google News latest articles about a topic.\\n    pyvis: Graphs visualizations.\\n'"
      ]
     },
     "execution_count": 3,
     "metadata": {},
     "output_type": "execute_result"
    }
   ],
   "source": [
    "#Step 1: import Libraries\n",
    "'''need each library for the following reasons:\n",
    "    transformers: Load the REBEL mode.\n",
    "    wikipedia: Validate extracted entities by checking if they have a corresponding Wikipedia page.\n",
    "    newspaper: Parse articles from URLs.\n",
    "    GoogleNews: Read Google News latest articles about a topic.\n",
    "    pyvis: Graphs visualizations.\n",
    "'''"
   ]
  },
  {
   "cell_type": "code",
   "execution_count": 4,
   "id": "e6d2b685-4e4f-473a-9a0d-0703a311afce",
   "metadata": {},
   "outputs": [],
   "source": [
    "# needed to load the REBEL model\n",
    "from transformers import AutoModelForSeq2SeqLM, AutoTokenizer\n",
    "import math\n",
    "import torch\n",
    "\n",
    "# wrapper for wikipedia API\n",
    "import wikipedia\n",
    "\n",
    "# scraping of web articles\n",
    "from newspaper import Article, ArticleException\n",
    "\n",
    "# google news scraping\n",
    "from GoogleNews import GoogleNews\n",
    "\n",
    "# graph visualization\n",
    "from pyvis.network import Network\n",
    "\n",
    "# show HTML in notebook\n",
    "import IPython\n"
   ]
  },
  {
   "cell_type": "code",
   "execution_count": 5,
   "id": "beb48329-0d12-4a19-a22c-02f1e6c05326",
   "metadata": {},
   "outputs": [],
   "source": [
    "# Load model and tokenizer\n",
    "tokenizer = AutoTokenizer.from_pretrained(\"Babelscape/rebel-large\")\n",
    "model = AutoModelForSeq2SeqLM.from_pretrained(\"Babelscape/rebel-large\")"
   ]
  },
  {
   "cell_type": "code",
   "execution_count": 6,
   "id": "83e4d717-f8f0-48f8-b482-bfc0b09e8616",
   "metadata": {},
   "outputs": [
    {
     "data": {
      "text/plain": [
       "'\\nstep 2: is to write a function that is able to parse the strings generated by REBEL and transform them into relation triplets (e.g. the \\n<Fabio, lives in, Italy> triplet). This function must take into account additional new tokens (i.e. the <triplet> , <subj>, and <obj> tokens) \\nused while training the model. \\nhe REBEL model card provides us with a complete code example for this function.\\n'"
      ]
     },
     "execution_count": 6,
     "metadata": {},
     "output_type": "execute_result"
    }
   ],
   "source": [
    "#fStep 2; from Short Text to KB\n",
    "'''\n",
    "step 2: is to write a function that is able to parse the strings generated by REBEL and transform them into relation triplets (e.g. the \n",
    "<Fabio, lives in, Italy> triplet). This function must take into account additional new tokens (i.e. the <triplet> , <subj>, and <obj> tokens) \n",
    "used while training the model. \n",
    "he REBEL model card provides us with a complete code example for this function.\n",
    "'''\n"
   ]
  },
  {
   "cell_type": "code",
   "execution_count": 7,
   "id": "1099d6bc-06d8-441b-92c7-7481250447cf",
   "metadata": {},
   "outputs": [],
   "source": [
    "# from https://huggingface.co/Babelscape/rebel-large\n",
    "def extract_relations_from_model_output(text):\n",
    "    relations = []\n",
    "    relation, subject, relation, object_ = '', '', '', ''\n",
    "    text = text.strip()\n",
    "    current = 'x'\n",
    "    text_replaced = text.replace(\"<s>\", \"\").replace(\"<pad>\", \"\").replace(\"</s>\", \"\")\n",
    "    for token in text_replaced.split():\n",
    "        if token == \"<triplet>\":\n",
    "            current = 't'\n",
    "            if relation != '':\n",
    "                relations.append({\n",
    "                    'head': subject.strip(),\n",
    "                    'type': relation.strip(),\n",
    "                    'tail': object_.strip()\n",
    "                })\n",
    "                relation = ''\n",
    "            subject = ''\n",
    "        elif token == \"<subj>\":\n",
    "            current = 's'\n",
    "            if relation != '':\n",
    "                relations.append({\n",
    "                    'head': subject.strip(),\n",
    "                    'type': relation.strip(),\n",
    "                    'tail': object_.strip()\n",
    "                })\n",
    "            object_ = ''\n",
    "        elif token == \"<obj>\":\n",
    "            current = 'o'\n",
    "            relation = ''\n",
    "        else:\n",
    "            if current == 't':\n",
    "                subject += ' ' + token\n",
    "            elif current == 's':\n",
    "                object_ += ' ' + token\n",
    "            elif current == 'o':\n",
    "                relation += ' ' + token\n",
    "    if subject != '' and relation != '' and object_ != '':\n",
    "        relations.append({\n",
    "            'head': subject.strip(),\n",
    "            'type': relation.strip(),\n",
    "            'tail': object_.strip()\n",
    "        })\n",
    "    return relations"
   ]
  },
  {
   "cell_type": "code",
   "execution_count": 8,
   "id": "c981c64e-9c2d-416e-b660-002bed9f3790",
   "metadata": {},
   "outputs": [
    {
     "data": {
      "text/plain": [
       "'\\nThe above function outputs a list of relations, where each relation is represented as a dictionary with the following keys:\\n    head: The subject of the relation (e.g. “Fabio”).\\n    type: The relation type (e.g. “lives in”).\\n    tail: The object of the relation (e.g. “Italy”).\\n'"
      ]
     },
     "execution_count": 8,
     "metadata": {},
     "output_type": "execute_result"
    }
   ],
   "source": [
    "'''\n",
    "The above function outputs a list of relations, where each relation is represented as a dictionary with the following keys:\n",
    "    head: The subject of the relation (e.g. “Fabio”).\n",
    "    type: The relation type (e.g. “lives in”).\n",
    "    tail: The object of the relation (e.g. “Italy”).\n",
    "'''"
   ]
  },
  {
   "cell_type": "code",
   "execution_count": 9,
   "id": "cd2b70e1-4e6b-493e-89c3-793b0b557f89",
   "metadata": {},
   "outputs": [
    {
     "data": {
      "text/plain": [
       "'\\nNext, let’s write the code for implementing a knowledge base class. Our KB class is made of a list of relations and has several methods to \\ndeal with adding new relations to the knowledge base or printing them. \\n'"
      ]
     },
     "execution_count": 9,
     "metadata": {},
     "output_type": "execute_result"
    }
   ],
   "source": [
    "'''\n",
    "Next, let’s write the code for implementing a knowledge base class. Our KB class is made of a list of relations and has several methods to \n",
    "deal with adding new relations to the knowledge base or printing them. \n",
    "'''"
   ]
  },
  {
   "cell_type": "code",
   "execution_count": 10,
   "id": "269f0e01-beaf-4ef1-848b-269b09718073",
   "metadata": {},
   "outputs": [],
   "source": [
    "# knowledge base class\n",
    "class KB():\n",
    "    def __init__(self):\n",
    "        self.relations = []\n",
    "\n",
    "    def are_relations_equal(self, r1, r2):\n",
    "        return all(r1[attr] == r2[attr] for attr in [\"head\", \"type\", \"tail\"])\n",
    "\n",
    "    def exists_relation(self, r1):\n",
    "        return any(self.are_relations_equal(r1, r2) for r2 in self.relations)\n",
    "\n",
    "    def add_relation(self, r):\n",
    "        if not self.exists_relation(r):\n",
    "            self.relations.append(r)\n",
    "\n",
    "    def print(self):\n",
    "        print(\"Relations:\")\n",
    "        for r in self.relations:\n",
    "            print(f\"  {r}\")"
   ]
  },
  {
   "cell_type": "code",
   "execution_count": 11,
   "id": "d9b59475-95c9-4e12-b6bf-c337590347c8",
   "metadata": {},
   "outputs": [
    {
     "data": {
      "text/plain": [
       "'\\n    Initialize an empty knowledge base KB object.\\n    Tokenize the input text.\\n    Use REBEL to generate relations from the text.\\n    Parse REBEL output and store relation triplets into the knowledge base object.\\n    Return the knowledge base object.\\n'"
      ]
     },
     "execution_count": 11,
     "metadata": {},
     "output_type": "execute_result"
    }
   ],
   "source": [
    "#we define a from_small_text_to_kb function that returns a KB object with relations extracted from a short text.\n",
    "'''\n",
    "    Initialize an empty knowledge base KB object.\n",
    "    Tokenize the input text.\n",
    "    Use REBEL to generate relations from the text.\n",
    "    Parse REBEL output and store relation triplets into the knowledge base object.\n",
    "    Return the knowledge base object.\n",
    "'''"
   ]
  },
  {
   "cell_type": "code",
   "execution_count": 12,
   "id": "693040b3-6c1e-434c-abd9-8218b8761fb7",
   "metadata": {},
   "outputs": [],
   "source": [
    "# build a knowledge base from text\n",
    "def from_small_text_to_kb(text, verbose=False):\n",
    "    kb = KB()\n",
    "\n",
    "    # Tokenizer text\n",
    "    model_inputs = tokenizer(text, max_length=512, padding=True, truncation=True,\n",
    "                            return_tensors='pt')\n",
    "    if verbose:\n",
    "        print(f\"Num tokens: {len(model_inputs['input_ids'][0])}\")\n",
    "\n",
    "    # Generate\n",
    "    gen_kwargs = {\n",
    "        \"max_length\": 216,\n",
    "        \"length_penalty\": 0,\n",
    "        \"num_beams\": 3,\n",
    "        \"num_return_sequences\": 3\n",
    "    }\n",
    "    generated_tokens = model.generate(\n",
    "        **model_inputs,\n",
    "        **gen_kwargs,\n",
    "    )\n",
    "    decoded_preds = tokenizer.batch_decode(generated_tokens, skip_special_tokens=False)\n",
    "\n",
    "    # create kb\n",
    "    for sentence_pred in decoded_preds:\n",
    "        relations = extract_relations_from_model_output(sentence_pred)\n",
    "        for r in relations:\n",
    "            kb.add_relation(r)\n",
    "\n",
    "    return kb"
   ]
  },
  {
   "cell_type": "code",
   "execution_count": 13,
   "id": "7970d3f7-9eda-4fe7-b260-dc77e84a252d",
   "metadata": {},
   "outputs": [
    {
     "name": "stdout",
     "output_type": "stream",
     "text": [
      "Num tokens: 133\n",
      "Relations:\n",
      "  {'head': 'Napoleon Bonaparte', 'type': 'date of birth', 'tail': '15 August 1769'}\n",
      "  {'head': 'Napoleon Bonaparte', 'type': 'date of death', 'tail': '5 May 1821'}\n",
      "  {'head': 'Napoleon Bonaparte', 'type': 'participant in', 'tail': 'French Revolution'}\n",
      "  {'head': 'Napoleon Bonaparte', 'type': 'conflict', 'tail': 'Revolutionary Wars'}\n",
      "  {'head': 'Revolutionary Wars', 'type': 'part of', 'tail': 'French Revolution'}\n",
      "  {'head': 'French Revolution', 'type': 'participant', 'tail': 'Napoleon Bonaparte'}\n",
      "  {'head': 'Revolutionary Wars', 'type': 'participant', 'tail': 'Napoleon Bonaparte'}\n"
     ]
    }
   ],
   "source": [
    "# test the `from_small_text_to_kb` function\n",
    "\n",
    "text = \"Napoleon Bonaparte (born Napoleone di Buonaparte; 15 August 1769 – 5 \" \\\n",
    "\"May 1821), and later known by his regnal name Napoleon I, was a French military \" \\\n",
    "\"and political leader who rose to prominence during the French Revolution and led \" \\\n",
    "\"several successful campaigns during the Revolutionary Wars. He was the de facto \" \\\n",
    "\"leader of the French Republic as First Consul from 1799 to 1804. As Napoleon I, \" \\\n",
    "\"he was Emperor of the French from 1804 until 1814 and again in 1815. Napoleon's \" \\\n",
    "\"political and cultural legacy has endured, and he has been one of the most \" \\\n",
    "\"celebrated and controversial leaders in world history.\"\n",
    "\n",
    "kb = from_small_text_to_kb(text, verbose=True)\n",
    "kb.print()"
   ]
  },
  {
   "cell_type": "code",
   "execution_count": 14,
   "id": "bb56e74c-8a16-4bca-9ad5-8e4b05354f37",
   "metadata": {},
   "outputs": [
    {
     "data": {
      "text/plain": [
       "'\\nTransformer models like REBEL have memory requirements that grow quadratically with the size of the inputs. This means that REBEL is able to\\nwork on common hardware at a reasonable speed with inputs of about 512 tokens, which correspond to about 380 English words. However, we may \\nneed to extract relations from documents long several thousands of words.\\n\\nMoreover, from my experiments with the model, it seems to work better with shorter inputs. Intuitively, raw text relations are often \\nexpressed in single or contiguous sentences, therefore it may not be necessary to consider a high number of sentences at the same time \\nto extract specific relations. Additionally, extracting a few relations is a simpler task than extracting many relations.\\n'"
      ]
     },
     "execution_count": 14,
     "metadata": {},
     "output_type": "execute_result"
    }
   ],
   "source": [
    "#step 3: From Long Text to KB\n",
    "'''\n",
    "Transformer models like REBEL have memory requirements that grow quadratically with the size of the inputs. This means that REBEL is able to\n",
    "work on common hardware at a reasonable speed with inputs of about 512 tokens, which correspond to about 380 English words. However, we may \n",
    "need to extract relations from documents long several thousands of words.\n",
    "\n",
    "Moreover, from my experiments with the model, it seems to work better with shorter inputs. Intuitively, raw text relations are often \n",
    "expressed in single or contiguous sentences, therefore it may not be necessary to consider a high number of sentences at the same time \n",
    "to extract specific relations. Additionally, extracting a few relations is a simpler task than extracting many relations.\n",
    "'''"
   ]
  },
  {
   "cell_type": "code",
   "execution_count": 15,
   "id": "c5ca656d-5a05-4e3f-8313-3b02ce891d16",
   "metadata": {},
   "outputs": [
    {
     "data": {
      "text/plain": [
       "'\\nSo, how do we put all this together?\\n\\nFor example, we can divide an input text long 1000 tokens into eight shorter overlapping spans long 128 tokens and extract relations from \\neach span. While doing so, we also add some metadata to the extracted relations containing their span boundaries. With this info, we are able\\nto see from which span of the text we extracted a specific relation which is now saved in our knowledge base.\\n'"
      ]
     },
     "execution_count": 15,
     "metadata": {},
     "output_type": "execute_result"
    }
   ],
   "source": [
    "'''\n",
    "So, how do we put all this together?\n",
    "\n",
    "For example, we can divide an input text long 1000 tokens into eight shorter overlapping spans long 128 tokens and extract relations from \n",
    "each span. While doing so, we also add some metadata to the extracted relations containing their span boundaries. With this info, we are able\n",
    "to see from which span of the text we extracted a specific relation which is now saved in our knowledge base.\n",
    "'''"
   ]
  },
  {
   "cell_type": "code",
   "execution_count": 16,
   "id": "c0bb8b9a-d55e-40fa-931c-b387b1e9e774",
   "metadata": {},
   "outputs": [
    {
     "data": {
      "text/plain": [
       "'Let’s modify the KB methods so that span boundaries are saved as well. The relation dictionary has now the keys:\\n    head : The subject of the relation (e.g. “Fabio”).\\n    type : The relation type (e.g. “lives in”).\\n    tail : The object of the relation (e.g. “Italy”).\\n    meta : A dictionary containing meta information about the relation. This dictionary has a spans key, whose value is the list of span \\n    boundaries (e.g. [[0, 128], [119, 247]]) where the relation has been found.\\n'"
      ]
     },
     "execution_count": 16,
     "metadata": {},
     "output_type": "execute_result"
    }
   ],
   "source": [
    "'''Let’s modify the KB methods so that span boundaries are saved as well. The relation dictionary has now the keys:\n",
    "    head : The subject of the relation (e.g. “Fabio”).\n",
    "    type : The relation type (e.g. “lives in”).\n",
    "    tail : The object of the relation (e.g. “Italy”).\n",
    "    meta : A dictionary containing meta information about the relation. This dictionary has a spans key, whose value is the list of span \n",
    "    boundaries (e.g. [[0, 128], [119, 247]]) where the relation has been found.\n",
    "'''"
   ]
  },
  {
   "cell_type": "code",
   "execution_count": 17,
   "id": "81719cbe-43ae-4713-86d3-f81b1e8f4d19",
   "metadata": {},
   "outputs": [],
   "source": [
    "# add `merge_relations` to KB class\n",
    "class KB():\n",
    "    def __init__(self):\n",
    "        self.relations = []\n",
    "\n",
    "    def are_relations_equal(self, r1, r2):\n",
    "        return all(r1[attr] == r2[attr] for attr in [\"head\", \"type\", \"tail\"])\n",
    "\n",
    "    def exists_relation(self, r1):\n",
    "        return any(self.are_relations_equal(r1, r2) for r2 in self.relations)\n",
    "\n",
    "    def add_relation(self, r):\n",
    "        if not self.exists_relation(r):\n",
    "            self.relations.append(r)\n",
    "\n",
    "    def print(self):\n",
    "        print(\"Relations:\")\n",
    "        for r in self.relations:\n",
    "            print(f\"  {r}\")\n",
    "            \n",
    "    def merge_relations(self, r1):\n",
    "        r2 = [r for r in self.relations\n",
    "              if self.are_relations_equal(r1, r)][0]\n",
    "        spans_to_add = [span for span in r1[\"meta\"][\"spans\"]\n",
    "                        if span not in r2[\"meta\"][\"spans\"]]\n",
    "        r2[\"meta\"][\"spans\"] += spans_to_add\n",
    "\n",
    "    def add_relation(self, r):\n",
    "        if not self.exists_relation(r):\n",
    "            self.relations.append(r)\n",
    "        else:\n",
    "            self.merge_relations(r)"
   ]
  },
  {
   "cell_type": "code",
   "execution_count": 18,
   "id": "cea1393d-2b7c-462d-92f3-f4ec4eeee0e6",
   "metadata": {},
   "outputs": [
    {
     "data": {
      "text/plain": [
       "'\\nNext, write the from_text_to_kb function, which is similar to the from_small_text_to_kb function but is able to manage longer texts\\nby splitting them into spans. All the new code is about the spanning logic and the management of the spans into the relations.\\n'"
      ]
     },
     "execution_count": 18,
     "metadata": {},
     "output_type": "execute_result"
    }
   ],
   "source": [
    "'''\n",
    "Next, write the from_text_to_kb function, which is similar to the from_small_text_to_kb function but is able to manage longer texts\n",
    "by splitting them into spans. All the new code is about the spanning logic and the management of the spans into the relations.\n",
    "'''"
   ]
  },
  {
   "cell_type": "code",
   "execution_count": 19,
   "id": "383fd286-cd41-47e1-a880-18bbb1c0c6db",
   "metadata": {},
   "outputs": [],
   "source": [
    "# extract relations for each span and put them together in a knowledge base\n",
    "def from_text_to_kb(text, span_length=128, verbose=False):\n",
    "    # tokenize whole text\n",
    "    inputs = tokenizer([text], return_tensors=\"pt\")\n",
    "\n",
    "    # compute span boundaries\n",
    "    num_tokens = len(inputs[\"input_ids\"][0])\n",
    "    if verbose:\n",
    "        print(f\"Input has {num_tokens} tokens\")\n",
    "    num_spans = math.ceil(num_tokens / span_length)\n",
    "    if verbose:\n",
    "        print(f\"Input has {num_spans} spans\")\n",
    "    overlap = math.ceil((num_spans * span_length - num_tokens) / \n",
    "                        max(num_spans - 1, 1))\n",
    "    spans_boundaries = []\n",
    "    start = 0\n",
    "    for i in range(num_spans):\n",
    "        spans_boundaries.append([start + span_length * i,\n",
    "                                 start + span_length * (i + 1)])\n",
    "        start -= overlap\n",
    "    if verbose:\n",
    "        print(f\"Span boundaries are {spans_boundaries}\")\n",
    "\n",
    "    # transform input with spans\n",
    "    tensor_ids = [inputs[\"input_ids\"][0][boundary[0]:boundary[1]]\n",
    "                  for boundary in spans_boundaries]\n",
    "    tensor_masks = [inputs[\"attention_mask\"][0][boundary[0]:boundary[1]]\n",
    "                    for boundary in spans_boundaries]\n",
    "    inputs = {\n",
    "        \"input_ids\": torch.stack(tensor_ids),\n",
    "        \"attention_mask\": torch.stack(tensor_masks)\n",
    "    }\n",
    "\n",
    "    # generate relations\n",
    "    num_return_sequences = 3\n",
    "    gen_kwargs = {\n",
    "        \"max_length\": 256,\n",
    "        \"length_penalty\": 0,\n",
    "        \"num_beams\": 3,\n",
    "        \"num_return_sequences\": num_return_sequences\n",
    "    }\n",
    "    generated_tokens = model.generate(\n",
    "        **inputs,\n",
    "        **gen_kwargs,\n",
    "    )\n",
    "\n",
    "    # decode relations\n",
    "    decoded_preds = tokenizer.batch_decode(generated_tokens,skip_special_tokens=False)\n",
    "\n",
    "    # create kb\n",
    "    kb = KB()\n",
    "    i = 0\n",
    "    for sentence_pred in decoded_preds:\n",
    "        current_span_index = i // num_return_sequences\n",
    "        relations = extract_relations_from_model_output(sentence_pred)\n",
    "        for relation in relations:\n",
    "            relation[\"meta\"] = {\n",
    "                \"spans\": [spans_boundaries[current_span_index]]\n",
    "            }\n",
    "            kb.add_relation(relation)\n",
    "        i += 1\n",
    "\n",
    "    return kb\n",
    "    "
   ]
  },
  {
   "cell_type": "code",
   "execution_count": 20,
   "id": "b08b451c-4372-4717-8334-1bcfeee37237",
   "metadata": {},
   "outputs": [],
   "source": [
    "#try it with a longer text of 726 tokens about Napoleon. We are currently splitting the text into spans long 128 tokens."
   ]
  },
  {
   "cell_type": "code",
   "execution_count": 21,
   "id": "770d685f-afe4-46cb-9b4a-30aa2d080579",
   "metadata": {},
   "outputs": [
    {
     "name": "stdout",
     "output_type": "stream",
     "text": [
      "Input has 782 tokens\n",
      "Input has 7 spans\n",
      "Span boundaries are [[0, 128], [109, 237], [218, 346], [327, 455], [436, 564], [545, 673], [654, 782]]\n",
      "Relations:\n",
      "  {'head': 'Napoleon Bonaparte', 'type': 'date of birth', 'tail': '15 August 1769', 'meta': {'spans': [[0, 128]]}}\n",
      "  {'head': 'Napoleon Bonaparte', 'type': 'date of death', 'tail': '5 May 1821', 'meta': {'spans': [[0, 128]]}}\n",
      "  {'head': 'Napoleon Bonaparte', 'type': 'participant in', 'tail': 'French Revolution', 'meta': {'spans': [[0, 128]]}}\n",
      "  {'head': 'Napoleon Bonaparte', 'type': 'conflict', 'tail': 'Revolutionary Wars', 'meta': {'spans': [[0, 128]]}}\n",
      "  {'head': 'Revolutionary Wars', 'type': 'part of', 'tail': 'French Revolution', 'meta': {'spans': [[0, 128]]}}\n",
      "  {'head': 'Revolutionary Wars', 'type': 'participant', 'tail': 'Napoleon Bonaparte', 'meta': {'spans': [[0, 128]]}}\n",
      "  {'head': 'Napoleon', 'type': 'participant in', 'tail': 'French Revolution', 'meta': {'spans': [[109, 237]]}}\n",
      "  {'head': 'French Directory', 'type': 'replaces', 'tail': 'Kingdom of France', 'meta': {'spans': [[109, 237]]}}\n",
      "  {'head': 'military campaign', 'type': 'start time', 'tail': '1796', 'meta': {'spans': [[109, 237]]}}\n",
      "  {'head': 'Battle of Austerlitz', 'type': 'part of', 'tail': 'War of the Third Coalition', 'meta': {'spans': [[218, 346]]}}\n",
      "  {'head': 'War of the Third Coalition', 'type': 'start time', 'tail': '1805', 'meta': {'spans': [[218, 346]]}}\n",
      "  {'head': 'Ulm Campaign', 'type': 'part of', 'tail': 'War of the Third Coalition', 'meta': {'spans': [[218, 346]]}}\n",
      "  {'head': 'Friedland', 'type': 'part of', 'tail': 'War of the Fifth Coalition', 'meta': {'spans': [[327, 455]]}}\n",
      "  {'head': 'Jena', 'type': 'part of', 'tail': 'Fourth Coalition', 'meta': {'spans': [[327, 455]]}}\n",
      "  {'head': 'Auerstedt', 'type': 'part of', 'tail': 'Fourth Coalition', 'meta': {'spans': [[327, 455]]}}\n",
      "  {'head': 'Friedland', 'type': 'part of', 'tail': 'Fourth Coalition', 'meta': {'spans': [[327, 455]]}}\n",
      "  {'head': 'Treaties of Tilsit', 'type': 'part of', 'tail': 'War of the Fifth Coalition', 'meta': {'spans': [[327, 455]]}}\n",
      "  {'head': 'Battle of Wagram', 'type': 'part of', 'tail': 'War of the Fifth Coalition', 'meta': {'spans': [[436, 564]]}}\n",
      "  {'head': 'invasion of Russia', 'type': 'point in time', 'tail': '1812', 'meta': {'spans': [[436, 564]]}}\n",
      "  {'head': 'Sixth Coalition', 'type': 'start time', 'tail': '1813', 'meta': {'spans': [[545, 673]]}}\n",
      "  {'head': 'Sixth Coalition against France', 'type': 'start time', 'tail': '1813', 'meta': {'spans': [[545, 673]]}}\n",
      "  {'head': 'Sixth Coalition', 'type': 'point in time', 'tail': '1813', 'meta': {'spans': [[545, 673]]}}\n",
      "  {'head': 'Battle of Waterloo', 'type': 'part of', 'tail': 'Seventh Coalition', 'meta': {'spans': [[654, 782]]}}\n",
      "  {'head': 'Seventh Coalition', 'type': 'has part', 'tail': 'Battle of Waterloo', 'meta': {'spans': [[654, 782]]}}\n",
      "  {'head': 'Seventh Coalition', 'type': 'start time', 'tail': 'June 1815', 'meta': {'spans': [[654, 782]]}}\n"
     ]
    }
   ],
   "source": [
    "text = \"\"\"\n",
    "Napoleon Bonaparte (born Napoleone di Buonaparte; 15 August 1769 – 5 May 1821), and later known by his regnal name Napoleon I, was a French \n",
    "military and political leader who rose to prominence during the French Revolution and led several successful campaigns during the \n",
    "Revolutionary Wars. He was the de facto leader of the French Republic as First Consul from 1799 to 1804. As Napoleon I, he was Emperor of \n",
    "the French from 1804 until 1814 and again in 1815. Napoleon's political and cultural legacy has endured, and he has been one of the most \n",
    "celebrated and controversial leaders in world history. Napoleon was born on the island of Corsica not long after its annexation by the \n",
    "Kingdom of France.[5] He supported the French Revolution in 1789 while serving in the French army, and tried to spread its ideals to his \n",
    "native Corsica. He rose rapidly in the Army after he saved the governing French Directory by firing on royalist insurgents. In 1796, \n",
    "he began a military campaign against the Austrians and their Italian allies, scoring decisive victories and becoming a national hero. \n",
    "Two years later, he led a military expedition to Egypt that served as a springboard to political power. He engineered a coup in November 1799\n",
    "and became First Consul of the Republic. Differences with the British meant that the French faced the War of the Third Coalition by 1805. \n",
    "Napoleon shattered this coalition with victories in the Ulm Campaign, and at the Battle of Austerlitz, which led to the dissolving of the \n",
    "Holy Roman Empire. In 1806, the Fourth Coalition took up arms against him because Prussia became worried about growing French influence on \n",
    "the continent. Napoleon knocked out Prussia at the battles of Jena and Auerstedt, marched the Grande Armée into Eastern Europe, annihilating \n",
    "the Russians in June 1807 at Friedland, and forcing the defeated nations of the Fourth Coalition to accept the Treaties of Tilsit. Two years \n",
    "later, the Austrians challenged the French again during the War of the Fifth Coalition, but Napoleon solidified his grip over Europe after \n",
    "triumphing at the Battle of Wagram. Hoping to extend the Continental System, his embargo against Britain, Napoleon invaded the Iberian \n",
    "Peninsula and declared his brother Joseph King of Spain in 1808. The Spanish and the Portuguese revolted in the Peninsular War, culminating \n",
    "in defeat for Napoleon's marshals. Napoleon launched an invasion of Russia in the summer of 1812. The resulting campaign witnessed the \n",
    "catastrophic retreat of Napoleon's Grande Armée. In 1813, Prussia and Austria joined Russian forces in a Sixth Coalition against France. \n",
    "A chaotic military campaign resulted in a large coalition army defeating Napoleon at the Battle of Leipzig in October 1813. The coalition \n",
    "invaded France and captured Paris, forcing Napoleon to abdicate in April 1814. He was exiled to the island of Elba, between Corsica and Italy.\n",
    "In France, the Bourbons were restored to power. However, Napoleon escaped Elba in February 1815 and took control of France.[6][7] The Allies\n",
    "responded by forming a Seventh Coalition, which defeated Napoleon at the Battle of Waterloo in June 1815. The British exiled him to the \n",
    "remote island of Saint Helena in the Atlantic, where he died in 1821 at the age of 51. Napoleon had an extensive impact on the modern world, \n",
    "bringing liberal reforms to the many countries he conquered, especially the Low Countries, Switzerland, and parts of modern Italy and Germany.\n",
    "He implemented liberal policies in France and Western Europe.\n",
    "\"\"\"\n",
    "\n",
    "kb = from_text_to_kb(text, verbose=True)\n",
    "kb.print()\n"
   ]
  },
  {
   "cell_type": "code",
   "execution_count": 22,
   "id": "f3cf1369-662a-47f0-aa76-576bbe062cd9",
   "metadata": {},
   "outputs": [
    {
     "data": {
      "text/plain": [
       "'\\nsupress redundant relations\\none way to do this is to use the wikipedia library to check if “Napoleon Bonaparte” and “Napoleon” have the same Wikipedia page. If so, they \\nare normalized to the title of the Wikipedia page. If an extracted entity doesn’t have a corresponding Wikipedia page, we ignore it at the \\nmoment. This step is commonly called Entity Linking.\\n'"
      ]
     },
     "execution_count": 22,
     "metadata": {},
     "output_type": "execute_result"
    }
   ],
   "source": [
    "#Step 4, filter and normalize entities with Wikipedia\n",
    "'''\n",
    "supress redundant relations\n",
    "one way to do this is to use the wikipedia library to check if “Napoleon Bonaparte” and “Napoleon” have the same Wikipedia page. If so, they \n",
    "are normalized to the title of the Wikipedia page. If an extracted entity doesn’t have a corresponding Wikipedia page, we ignore it at the \n",
    "moment. This step is commonly called Entity Linking.\n",
    "'''"
   ]
  },
  {
   "cell_type": "code",
   "execution_count": 23,
   "id": "291dbb70-534c-4813-b318-86d3fc6425d6",
   "metadata": {},
   "outputs": [
    {
     "data": {
      "text/plain": [
       "'\\n modify our KB code:\\n    The KB now stores an entities dictionary with the entities of the stored relations. The keys are the entity identifiers (i.e. the title \\n    of the corresponding Wikipedia page), and the value is a dictionary containing the Wikipedia page url and its summary.\\n    When adding a new relation, we now check its entities with the wikipedia library.\\n'"
      ]
     },
     "execution_count": 23,
     "metadata": {},
     "output_type": "execute_result"
    }
   ],
   "source": [
    "'''\n",
    " modify our KB code:\n",
    "    The KB now stores an entities dictionary with the entities of the stored relations. The keys are the entity identifiers (i.e. the title \n",
    "    of the corresponding Wikipedia page), and the value is a dictionary containing the Wikipedia page url and its summary.\n",
    "    When adding a new relation, we now check its entities with the wikipedia library.\n",
    "'''"
   ]
  },
  {
   "cell_type": "code",
   "execution_count": 24,
   "id": "890f4cdc-9c77-4015-b3d5-4ce871cdd8cf",
   "metadata": {},
   "outputs": [],
   "source": [
    "# filter and normalize entities before adding them to the KB\n",
    "class KB():\n",
    "    def __init__(self):\n",
    "        self.entities = {}\n",
    "        self.relations = []\n",
    "\n",
    "    ...\n",
    "\n",
    "    def get_wikipedia_data(self, candidate_entity):\n",
    "        try:\n",
    "            page = wikipedia.page(candidate_entity, auto_suggest=False)\n",
    "            entity_data = {\n",
    "                \"title\": page.title,\n",
    "                \"url\": page.url,\n",
    "                \"summary\": page.summary\n",
    "            }\n",
    "            return entity_data\n",
    "        except:\n",
    "            return None\n",
    "\n",
    "    def add_entity(self, e):\n",
    "        self.entities[e[\"title\"]] = {k:v for k,v in e.items() if k != \"title\"}\n",
    "\n",
    "    def add_relation(self, r):\n",
    "        # check on wikipedia\n",
    "        candidate_entities = [r[\"head\"], r[\"tail\"]]\n",
    "        entities = [self.get_wikipedia_data(ent) for ent in candidate_entities]\n",
    "\n",
    "        # if one entity does not exist, stop\n",
    "        if any(ent is None for ent in entities):\n",
    "            return\n",
    "\n",
    "        # manage new entities\n",
    "        for e in entities:\n",
    "            self.add_entity(e)\n",
    "\n",
    "        # rename relation entities with their wikipedia titles\n",
    "        r[\"head\"] = entities[0][\"title\"]\n",
    "        r[\"tail\"] = entities[1][\"title\"]\n",
    "\n",
    "        # manage new relation\n",
    "        if not self.exists_relation(r):\n",
    "            self.relations.append(r)\n",
    "        else:\n",
    "            self.merge_relations(r)\n",
    "\n",
    "    def print(self):\n",
    "        print(\"Entities:\")\n",
    "        for e in self.entities.items():\n",
    "            print(f\"  {e}\")\n",
    "        print(\"Relations:\")\n",
    "        for r in self.relations:\n",
    "            print(f\"  {r}\")"
   ]
  },
  {
   "cell_type": "code",
   "execution_count": 25,
   "id": "8adfe98b-8bb9-49e6-ade9-272ac427650a",
   "metadata": {},
   "outputs": [
    {
     "ename": "AttributeError",
     "evalue": "'KB' object has no attribute 'exists_relation'",
     "output_type": "error",
     "traceback": [
      "\u001b[0;31m---------------------------------------------------------------------------\u001b[0m",
      "\u001b[0;31mAttributeError\u001b[0m                            Traceback (most recent call last)",
      "Cell \u001b[0;32mIn[25], line 5\u001b[0m\n\u001b[1;32m      1\u001b[0m text \u001b[38;5;241m=\u001b[39m \u001b[38;5;124m\"\"\"\u001b[39m\n\u001b[1;32m      2\u001b[0m \u001b[38;5;124mNapoleon Bonaparte (born Napoleone di Buonaparte; 15 August 1769 – 5 May 1821), and later known by his regnal name Napoleon I, was a French military and political leader who rose to prominence during the French Revolution and led several successful campaigns during the Revolutionary Wars. He was the de facto leader of the French Republic as First Consul from 1799 to 1804. As Napoleon I, he was Emperor of the French from 1804 until 1814 and again in 1815. Napoleon\u001b[39m\u001b[38;5;124m'\u001b[39m\u001b[38;5;124ms political and cultural legacy has endured, and he has been one of the most celebrated and controversial leaders in world history. Napoleon was born on the island of Corsica not long after its annexation by the Kingdom of France.[5] He supported the French Revolution in 1789 while serving in the French army, and tried to spread its ideals to his native Corsica. He rose rapidly in the Army after he saved the governing French Directory by firing on royalist insurgents. In 1796, he began a military campaign against the Austrians and their Italian allies, scoring decisive victories and becoming a national hero. Two years later, he led a military expedition to Egypt that served as a springboard to political power. He engineered a coup in November 1799 and became First Consul of the Republic. Differences with the British meant that the French faced the War of the Third Coalition by 1805. Napoleon shattered this coalition with victories in the Ulm Campaign, and at the Battle of Austerlitz, which led to the dissolving of the Holy Roman Empire. In 1806, the Fourth Coalition took up arms against him because Prussia became worried about growing French influence on the continent. Napoleon knocked out Prussia at the battles of Jena and Auerstedt, marched the Grande Armée into Eastern Europe, annihilating the Russians in June 1807 at Friedland, and forcing the defeated nations of the Fourth Coalition to accept the Treaties of Tilsit. Two years later, the Austrians challenged the French again during the War of the Fifth Coalition, but Napoleon solidified his grip over Europe after triumphing at the Battle of Wagram. Hoping to extend the Continental System, his embargo against Britain, Napoleon invaded the Iberian Peninsula and declared his brother Joseph King of Spain in 1808. The Spanish and the Portuguese revolted in the Peninsular War, culminating in defeat for Napoleon\u001b[39m\u001b[38;5;124m'\u001b[39m\u001b[38;5;124ms marshals. Napoleon launched an invasion of Russia in the summer of 1812. The resulting campaign witnessed the catastrophic retreat of Napoleon\u001b[39m\u001b[38;5;124m'\u001b[39m\u001b[38;5;124ms Grande Armée. In 1813, Prussia and Austria joined Russian forces in a Sixth Coalition against France. A chaotic military campaign resulted in a large coalition army defeating Napoleon at the Battle of Leipzig in October 1813. The coalition invaded France and captured Paris, forcing Napoleon to abdicate in April 1814. He was exiled to the island of Elba, between Corsica and Italy. In France, the Bourbons were restored to power. However, Napoleon escaped Elba in February 1815 and took control of France.[6][7] The Allies responded by forming a Seventh Coalition, which defeated Napoleon at the Battle of Waterloo in June 1815. The British exiled him to the remote island of Saint Helena in the Atlantic, where he died in 1821 at the age of 51. Napoleon had an extensive impact on the modern world, bringing liberal reforms to the many countries he conquered, especially the Low Countries, Switzerland, and parts of modern Italy and Germany. He implemented liberal policies in France and Western Europe.\u001b[39m\n\u001b[1;32m      3\u001b[0m \u001b[38;5;124m\"\"\"\u001b[39m\n\u001b[0;32m----> 5\u001b[0m kb \u001b[38;5;241m=\u001b[39m \u001b[43mfrom_text_to_kb\u001b[49m\u001b[43m(\u001b[49m\u001b[43mtext\u001b[49m\u001b[43m)\u001b[49m\n\u001b[1;32m      6\u001b[0m kb\u001b[38;5;241m.\u001b[39mprint()\n",
      "Cell \u001b[0;32mIn[19], line 60\u001b[0m, in \u001b[0;36mfrom_text_to_kb\u001b[0;34m(text, span_length, verbose)\u001b[0m\n\u001b[1;32m     56\u001b[0m     \u001b[38;5;28;01mfor\u001b[39;00m relation \u001b[38;5;129;01min\u001b[39;00m relations:\n\u001b[1;32m     57\u001b[0m         relation[\u001b[38;5;124m\"\u001b[39m\u001b[38;5;124mmeta\u001b[39m\u001b[38;5;124m\"\u001b[39m] \u001b[38;5;241m=\u001b[39m {\n\u001b[1;32m     58\u001b[0m             \u001b[38;5;124m\"\u001b[39m\u001b[38;5;124mspans\u001b[39m\u001b[38;5;124m\"\u001b[39m: [spans_boundaries[current_span_index]]\n\u001b[1;32m     59\u001b[0m         }\n\u001b[0;32m---> 60\u001b[0m         \u001b[43mkb\u001b[49m\u001b[38;5;241;43m.\u001b[39;49m\u001b[43madd_relation\u001b[49m\u001b[43m(\u001b[49m\u001b[43mrelation\u001b[49m\u001b[43m)\u001b[49m\n\u001b[1;32m     61\u001b[0m     i \u001b[38;5;241m+\u001b[39m\u001b[38;5;241m=\u001b[39m \u001b[38;5;241m1\u001b[39m\n\u001b[1;32m     63\u001b[0m \u001b[38;5;28;01mreturn\u001b[39;00m kb\n",
      "Cell \u001b[0;32mIn[24], line 42\u001b[0m, in \u001b[0;36mKB.add_relation\u001b[0;34m(self, r)\u001b[0m\n\u001b[1;32m     39\u001b[0m r[\u001b[38;5;124m\"\u001b[39m\u001b[38;5;124mtail\u001b[39m\u001b[38;5;124m\"\u001b[39m] \u001b[38;5;241m=\u001b[39m entities[\u001b[38;5;241m1\u001b[39m][\u001b[38;5;124m\"\u001b[39m\u001b[38;5;124mtitle\u001b[39m\u001b[38;5;124m\"\u001b[39m]\n\u001b[1;32m     41\u001b[0m \u001b[38;5;66;03m# manage new relation\u001b[39;00m\n\u001b[0;32m---> 42\u001b[0m \u001b[38;5;28;01mif\u001b[39;00m \u001b[38;5;129;01mnot\u001b[39;00m \u001b[38;5;28;43mself\u001b[39;49m\u001b[38;5;241;43m.\u001b[39;49m\u001b[43mexists_relation\u001b[49m(r):\n\u001b[1;32m     43\u001b[0m     \u001b[38;5;28mself\u001b[39m\u001b[38;5;241m.\u001b[39mrelations\u001b[38;5;241m.\u001b[39mappend(r)\n\u001b[1;32m     44\u001b[0m \u001b[38;5;28;01melse\u001b[39;00m:\n",
      "\u001b[0;31mAttributeError\u001b[0m: 'KB' object has no attribute 'exists_relation'"
     ]
    }
   ],
   "source": [
    "text = \"\"\"\n",
    "Napoleon Bonaparte (born Napoleone di Buonaparte; 15 August 1769 – 5 May 1821), and later known by his regnal name Napoleon I, was a French military and political leader who rose to prominence during the French Revolution and led several successful campaigns during the Revolutionary Wars. He was the de facto leader of the French Republic as First Consul from 1799 to 1804. As Napoleon I, he was Emperor of the French from 1804 until 1814 and again in 1815. Napoleon's political and cultural legacy has endured, and he has been one of the most celebrated and controversial leaders in world history. Napoleon was born on the island of Corsica not long after its annexation by the Kingdom of France.[5] He supported the French Revolution in 1789 while serving in the French army, and tried to spread its ideals to his native Corsica. He rose rapidly in the Army after he saved the governing French Directory by firing on royalist insurgents. In 1796, he began a military campaign against the Austrians and their Italian allies, scoring decisive victories and becoming a national hero. Two years later, he led a military expedition to Egypt that served as a springboard to political power. He engineered a coup in November 1799 and became First Consul of the Republic. Differences with the British meant that the French faced the War of the Third Coalition by 1805. Napoleon shattered this coalition with victories in the Ulm Campaign, and at the Battle of Austerlitz, which led to the dissolving of the Holy Roman Empire. In 1806, the Fourth Coalition took up arms against him because Prussia became worried about growing French influence on the continent. Napoleon knocked out Prussia at the battles of Jena and Auerstedt, marched the Grande Armée into Eastern Europe, annihilating the Russians in June 1807 at Friedland, and forcing the defeated nations of the Fourth Coalition to accept the Treaties of Tilsit. Two years later, the Austrians challenged the French again during the War of the Fifth Coalition, but Napoleon solidified his grip over Europe after triumphing at the Battle of Wagram. Hoping to extend the Continental System, his embargo against Britain, Napoleon invaded the Iberian Peninsula and declared his brother Joseph King of Spain in 1808. The Spanish and the Portuguese revolted in the Peninsular War, culminating in defeat for Napoleon's marshals. Napoleon launched an invasion of Russia in the summer of 1812. The resulting campaign witnessed the catastrophic retreat of Napoleon's Grande Armée. In 1813, Prussia and Austria joined Russian forces in a Sixth Coalition against France. A chaotic military campaign resulted in a large coalition army defeating Napoleon at the Battle of Leipzig in October 1813. The coalition invaded France and captured Paris, forcing Napoleon to abdicate in April 1814. He was exiled to the island of Elba, between Corsica and Italy. In France, the Bourbons were restored to power. However, Napoleon escaped Elba in February 1815 and took control of France.[6][7] The Allies responded by forming a Seventh Coalition, which defeated Napoleon at the Battle of Waterloo in June 1815. The British exiled him to the remote island of Saint Helena in the Atlantic, where he died in 1821 at the age of 51. Napoleon had an extensive impact on the modern world, bringing liberal reforms to the many countries he conquered, especially the Low Countries, Switzerland, and parts of modern Italy and Germany. He implemented liberal policies in France and Western Europe.\n",
    "\"\"\"\n",
    "\n",
    "kb = from_text_to_kb(text)\n",
    "kb.print()\n"
   ]
  },
  {
   "cell_type": "code",
   "execution_count": null,
   "id": "131d5988-7c1c-474d-9cc0-5f3f50b357ce",
   "metadata": {},
   "outputs": [],
   "source": []
  }
 ],
 "metadata": {
  "kernelspec": {
   "display_name": "Python 3 (ipykernel)",
   "language": "python",
   "name": "python3"
  },
  "language_info": {
   "codemirror_mode": {
    "name": "ipython",
    "version": 3
   },
   "file_extension": ".py",
   "mimetype": "text/x-python",
   "name": "python",
   "nbconvert_exporter": "python",
   "pygments_lexer": "ipython3",
   "version": "3.10.12"
  }
 },
 "nbformat": 4,
 "nbformat_minor": 5
}
